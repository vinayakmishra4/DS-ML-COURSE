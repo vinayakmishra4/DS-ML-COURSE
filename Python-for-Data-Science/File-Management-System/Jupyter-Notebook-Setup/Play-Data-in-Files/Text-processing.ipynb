{
 "cells": [
  {
   "cell_type": "markdown",
   "id": "2e94d848-9243-472d-9127-57ba35b7a8ee",
   "metadata": {},
   "source": [
    "# Text Processing in data file"
   ]
  },
  {
   "cell_type": "raw",
   "id": "a9f4e3ef-10d9-47b8-a952-01d6085d97ec",
   "metadata": {},
   "source": [
    "Step-1 Read the data of file "
   ]
  },
  {
   "cell_type": "code",
   "execution_count": 6,
   "id": "b0606b0d-cea8-45c2-b473-bcc26fec8051",
   "metadata": {},
   "outputs": [
    {
     "name": "stdout",
     "output_type": "stream",
     "text": [
      "Access modes determine what type of operations can be performed on a file after it is opened. These modes also control the position of the file handle, which acts like a cursor indicating where reading or writing will begin.\n",
      "\n",
      "Here are the six primary access modes in Python:\n",
      "\n",
      "1. **Read Only (`'r'`)**:\n",
      "   - Opens a file for reading only.\n",
      "   - File handle is positioned at the beginning.\n",
      "   - Raises an `IOError` if the file does not exist.\n",
      "   - This is the default mode.\n",
      "\n",
      "2. **Read and Write (`'r+'`)**:\n",
      "   - Opens a file for both reading and writing.\n",
      "   - File handle is positioned at the beginning.\n",
      "   - Raises an `IOError` if the file does not exist.\n",
      "\n",
      "3. **Write Only (`'w'`)**:\n",
      "   - Opens a file for writing only.\n",
      "   - Overwrites the file if it already exists (truncates it).\n",
      "   - Creates a new file if it does not exist.\n",
      "   - File handle is positioned at the beginning.\n",
      "\n",
      "4. **Write and Read (`'w+'`)**:\n",
      "   - Opens a file for both writing and reading.\n",
      "   - Overwrites the file if it already exists.\n",
      "   - Creates a new file if it does not exist.\n",
      "   - File handle is positioned at the beginning.\n",
      "\n",
      "5. **Append Only (`'a'`)**:\n",
      "   - Opens a file for writing only.\n",
      "   - Creates the file if it does not exist.\n",
      "   - File handle is positioned at the end.\n",
      "   - New data is written at the end of the file.\n",
      "\n",
      "6. **Append and Read (`'a+'`)**:\n",
      "   - Opens a file for both appending and reading.\n",
      "   - Creates the file if it does not exist.\n",
      "   - File handle is positioned at the end.\n",
      "   - New data is written at the end; reading can still occur from anywhere in the file.\n"
     ]
    }
   ],
   "source": [
    "data=open('Acess-Modes.txt',mode='r')\n",
    "text = data.read()\n",
    "print(text)"
   ]
  },
  {
   "cell_type": "raw",
   "id": "c62479c4-d9af-4a81-8e4b-02dc2d02b8e3",
   "metadata": {},
   "source": [
    "Step-2 Use different function for text processing "
   ]
  },
  {
   "cell_type": "markdown",
   "id": "8ed658ee-d3db-4bbb-9240-e2852dc7fddf",
   "metadata": {},
   "source": [
    "## Ways for text processing "
   ]
  },
  {
   "cell_type": "raw",
   "id": "a3f2082d-b498-4b71-a007-ad450e859937",
   "metadata": {},
   "source": [
    "1.Counting the Number of Paragraphs"
   ]
  },
  {
   "cell_type": "code",
   "execution_count": 8,
   "id": "21714463-db09-45f1-af66-627f77ca62db",
   "metadata": {},
   "outputs": [
    {
     "name": "stdout",
     "output_type": "stream",
     "text": [
      "Total paragraphs: 8\n"
     ]
    }
   ],
   "source": [
    "paragraphs = text.split(\"\\n\\n\")\n",
    "print(f\"Total paragraphs: {len(paragraphs)}\")"
   ]
  },
  {
   "cell_type": "raw",
   "id": "ec113e11-e1f4-4953-bb97-7b771e17a00c",
   "metadata": {},
   "source": [
    "2.Counting the Number of Lines"
   ]
  },
  {
   "cell_type": "code",
   "execution_count": 10,
   "id": "bedb25e8-514b-4c5a-b57b-698caf77ea56",
   "metadata": {},
   "outputs": [
    {
     "data": {
      "text/plain": [
       "31"
      ]
     },
     "execution_count": 10,
     "metadata": {},
     "output_type": "execute_result"
    }
   ],
   "source": [
    "lines = text.split(\".\")\n",
    "len(lines[:-1])"
   ]
  },
  {
   "cell_type": "raw",
   "id": "44d9fb2a-733a-40b0-92a9-4a22e69f1f47",
   "metadata": {},
   "source": [
    "3.Counting the Number of Words"
   ]
  },
  {
   "cell_type": "code",
   "execution_count": 12,
   "id": "17694dde-94a4-4dc5-a017-a3dbf0eb1bc2",
   "metadata": {},
   "outputs": [
    {
     "data": {
      "text/plain": [
       "320"
      ]
     },
     "execution_count": 12,
     "metadata": {},
     "output_type": "execute_result"
    }
   ],
   "source": [
    "words = text.split(\" \")\n",
    "len(words)"
   ]
  },
  {
   "cell_type": "code",
   "execution_count": null,
   "id": "50f2f3e3-8c14-449d-bf1b-d3671e57715d",
   "metadata": {},
   "outputs": [],
   "source": []
  }
 ],
 "metadata": {
  "kernelspec": {
   "display_name": "Python [conda env:base] *",
   "language": "python",
   "name": "conda-base-py"
  },
  "language_info": {
   "codemirror_mode": {
    "name": "ipython",
    "version": 3
   },
   "file_extension": ".py",
   "mimetype": "text/x-python",
   "name": "python",
   "nbconvert_exporter": "python",
   "pygments_lexer": "ipython3",
   "version": "3.13.5"
  }
 },
 "nbformat": 4,
 "nbformat_minor": 5
}
