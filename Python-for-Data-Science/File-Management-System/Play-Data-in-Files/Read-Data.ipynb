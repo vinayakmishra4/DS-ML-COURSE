{
 "cells": [
  {
   "cell_type": "markdown",
   "id": "cf0ffec6-23c3-4182-8775-6baeade2f9f0",
   "metadata": {},
   "source": [
    "# Open function "
   ]
  },
  {
   "cell_type": "raw",
   "id": "44bcff11-b39b-4b2c-9a72-5f71e87f7750",
   "metadata": {},
   "source": [
    "open function is used to read or write the txt file using open()\n",
    "Syntax:\n",
    "open(file, mode='access mode', buffering=-1, encoding=None, errors=None, newline=None, closefd=True, opener=None)"
   ]
  },
  {
   "cell_type": "code",
   "execution_count": 5,
   "id": "49691c70-1fcd-419b-ba98-cfd16fdbafd4",
   "metadata": {},
   "outputs": [
    {
     "name": "stdout",
     "output_type": "stream",
     "text": [
      "Access modes determine what type of operations can be performed on a file after it is opened. These modes also control the position of the file handle, which acts like a cursor indicating where reading or writing will begin.\n",
      "\n",
      "Here are the six primary access modes in Python:\n",
      "\n",
      "1. **Read Only (`'r'`)**:\n",
      "   - Opens a file for reading only.\n",
      "   - File handle is positioned at the beginning.\n",
      "   - Raises an `IOError` if the file does not exist.\n",
      "   - This is the default mode.\n",
      "\n",
      "2. **Read and Write (`'r+'`)**:\n",
      "   - Opens a file for both reading and writing.\n",
      "   - File handle is positioned at the beginning.\n",
      "   - Raises an `IOError` if the file does not exist.\n",
      "\n",
      "3. **Write Only (`'w'`)**:\n",
      "   - Opens a file for writing only.\n",
      "   - Overwrites the file if it already exists (truncates it).\n",
      "   - Creates a new file if it does not exist.\n",
      "   - File handle is positioned at the beginning.\n",
      "\n",
      "4. **Write and Read (`'w+'`)**:\n",
      "   - Opens a file for both writing and reading.\n",
      "   - Overwrites the file if it already exists.\n",
      "   - Creates a new file if it does not exist.\n",
      "   - File handle is positioned at the beginning.\n",
      "\n",
      "5. **Append Only (`'a'`)**:\n",
      "   - Opens a file for writing only.\n",
      "   - Creates the file if it does not exist.\n",
      "   - File handle is positioned at the end.\n",
      "   - New data is written at the end of the file.\n",
      "\n",
      "6. **Append and Read (`'a+'`)**:\n",
      "   - Opens a file for both appending and reading.\n",
      "   - Creates the file if it does not exist.\n",
      "   - File handle is positioned at the end.\n",
      "   - New data is written at the end; reading can still occur from anywhere in the file.\n"
     ]
    }
   ],
   "source": [
    "# open file\n",
    "data=open('Acess-Modes.txt',mode='r')\n",
    "# Read the data of file\n",
    "text = data.read()\n",
    "# print to console \n",
    "print(text)"
   ]
  },
  {
   "cell_type": "code",
   "execution_count": null,
   "id": "127e08a3-71d2-49da-9f54-ad71bb4c212d",
   "metadata": {},
   "outputs": [],
   "source": []
  }
 ],
 "metadata": {
  "kernelspec": {
   "display_name": "Python [conda env:base] *",
   "language": "python",
   "name": "conda-base-py"
  },
  "language_info": {
   "codemirror_mode": {
    "name": "ipython",
    "version": 3
   },
   "file_extension": ".py",
   "mimetype": "text/x-python",
   "name": "python",
   "nbconvert_exporter": "python",
   "pygments_lexer": "ipython3",
   "version": "3.13.5"
  }
 },
 "nbformat": 4,
 "nbformat_minor": 5
}
